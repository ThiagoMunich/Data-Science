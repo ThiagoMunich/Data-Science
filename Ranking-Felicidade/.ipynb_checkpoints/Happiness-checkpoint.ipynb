{
 "cells": [
  {
   "cell_type": "code",
   "execution_count": null,
   "metadata": {},
   "outputs": [],
   "source": [
    "# Importando as bibliotecas necessárias\n",
    "import pandas as pd\n",
    "import numpy as np\n",
    "import matplotlib.pyplot as plt\n",
    "import seaborn as sb\n",
    "import os\n",
    "from sklearn.tree import DecisionTreeClassifier\n",
    "from sklearn.metrics import classification_report\n",
    "from sklearn.preprocessing import MinMaxScaler\n",
    "from sklearn.model_selection import train_test_split\n",
    "from collections import Counter"
   ]
  },
  {
   "cell_type": "code",
   "execution_count": null,
   "metadata": {},
   "outputs": [],
   "source": [
    "# Caminho do dataset\n",
    "path = 'C:/Users/Thiago/Documents/CSV/felicidade_2017.csv'"
   ]
  },
  {
   "cell_type": "code",
   "execution_count": null,
   "metadata": {},
   "outputs": [],
   "source": [
    "# Criando o dataframe\n",
    "df = pd.read_csv(path)"
   ]
  },
  {
   "cell_type": "code",
   "execution_count": null,
   "metadata": {},
   "outputs": [],
   "source": [
    "# Renomeando as colunas\n",
    "df.columns = 'Pais Ranking Pontuação wh wl PIB Familia Exp_vida Liberdade Generosidade Confiança_governo Distopia_residual'.split()"
   ]
  },
  {
   "cell_type": "code",
   "execution_count": null,
   "metadata": {},
   "outputs": [],
   "source": [
    "# Excluindo duas colunas redundantes\n",
    "df.drop(['wh','wl','Familia'],axis=1,inplace=True)"
   ]
  },
  {
   "cell_type": "code",
   "execution_count": null,
   "metadata": {},
   "outputs": [],
   "source": [
    "# Visualizando os 5 primeiros registros\n",
    "df.head()"
   ]
  },
  {
   "cell_type": "code",
   "execution_count": null,
   "metadata": {},
   "outputs": [],
   "source": [
    "# Scatter plot de duas colunas do dataframe\n",
    "sb.jointplot(x=df['PIB'],y=df['Pontuação'],kind='scatter');"
   ]
  },
  {
   "cell_type": "code",
   "execution_count": null,
   "metadata": {},
   "outputs": [],
   "source": [
    "# Heatmap de correlação entre as variáveis\n",
    "plt.figure(figsize=(12,8))\n",
    "sb.heatmap(df.corr(),annot=True,cmap='magma',fmt='.2f')\n",
    "plt.title('Heatmap de correlação')\n",
    "plt.xticks(rotation=45)\n",
    "plt.tight_layout()"
   ]
  },
  {
   "cell_type": "code",
   "execution_count": null,
   "metadata": {},
   "outputs": [],
   "source": [
    "# Pair plot das variáveis: Score, PIB e expectativa de vida\n",
    "sb.pairplot(df, \n",
    "            vars = ['Pontuação','Exp_vida','Confiança_governo'],\n",
    "            diag_kind ='kde',\n",
    "            plot_kws = {'alpha': 0.4, 's': 80, 'edgecolor': 'k'},\n",
    "            size=3.5);\n",
    "plt.savefig('pairplot.png',dpi=70)"
   ]
  },
  {
   "cell_type": "code",
   "execution_count": null,
   "metadata": {},
   "outputs": [],
   "source": [
    "# KDE das variáveis: Score e PIB\n",
    "sb.jointplot(x=df['Score'],y=df['PIB'],kind='kde');"
   ]
  },
  {
   "cell_type": "code",
   "execution_count": null,
   "metadata": {},
   "outputs": [],
   "source": [
    "# Função para classificar os países pelo seu score\n",
    "# Se score >= media(score) = país feliz\n",
    "# Senão = país triste\n",
    "def Rotular(df):\n",
    "    lista_target = []\n",
    "    for score in df['Pontuação']:\n",
    "        if score >= df['Pontuação'].mean():\n",
    "            lista_target.append(1)\n",
    "        else:\n",
    "            lista_target.append(0)\n",
    "    return lista_target\n",
    "\n",
    "# Criando uma nova coluna no dataframe\n",
    "df['Target'] = Rotular(df)"
   ]
  },
  {
   "cell_type": "code",
   "execution_count": null,
   "metadata": {},
   "outputs": [],
   "source": [
    "# Contagem de países felizes e infelizes\n",
    "sb.countplot(df['Target'])\n",
    "plt.title('0 - Infeliz | 1 - Feliz')\n",
    "plt.ylabel('Contagem')"
   ]
  },
  {
   "cell_type": "code",
   "execution_count": null,
   "metadata": {},
   "outputs": [],
   "source": [
    "# Divide os dados em características e varíavel preditiva\n",
    "# onde X são as características (Score, PIB, etc..)\n",
    "# e y é o Target\n",
    "def SplitData():\n",
    "    X = np.array([])\n",
    "    y = np.array([])\n",
    "    \n",
    "    X = df.drop(['Pais','Ranking','Target'],axis=1)\n",
    "    y = df['Target']\n",
    "    \n",
    "    # Não é necessário, pois os dados já estão na mesma escala\n",
    "    #X = MinMaxScaler().fit_transform(X)\n",
    "    \n",
    "    return X,y\n",
    "\n",
    "X,y = SplitData()"
   ]
  },
  {
   "cell_type": "code",
   "execution_count": null,
   "metadata": {},
   "outputs": [],
   "source": [
    "# Dividindo os dados em 70% para treinamento e 30% para teste\n",
    "X_train,X_test,y_train,y_test = train_test_split(X, y, test_size=0.3)"
   ]
  },
  {
   "cell_type": "code",
   "execution_count": null,
   "metadata": {},
   "outputs": [],
   "source": [
    "# Print das divisões\n",
    "print('Total de amostras:', X.shape[0])\n",
    "print('Amostras p/ treino:', X_train.shape[0])\n",
    "print('Amostras p/ teste:', X_test.shape[0])"
   ]
  },
  {
   "cell_type": "code",
   "execution_count": null,
   "metadata": {},
   "outputs": [],
   "source": [
    "# Print da distribuição dos países\n",
    "print('Países felizes/infelizes p/ treino:',Counter(y_train))\n",
    "print('Paiíses infelizes/felizes p/ teste:',Counter(y_test))"
   ]
  },
  {
   "cell_type": "code",
   "execution_count": null,
   "metadata": {},
   "outputs": [],
   "source": [
    "# Definindo o modelo. profundidade da árvore = 3\n",
    "model = DecisionTreeClassifier(max_depth=3)"
   ]
  },
  {
   "cell_type": "code",
   "execution_count": null,
   "metadata": {},
   "outputs": [],
   "source": [
    "# Treinando o modelo\n",
    "model.fit(X_train,y_train);"
   ]
  },
  {
   "cell_type": "code",
   "execution_count": null,
   "metadata": {},
   "outputs": [],
   "source": [
    "# Armazenando as predições\n",
    "y_pred = model.predict(X_test)"
   ]
  },
  {
   "cell_type": "code",
   "execution_count": null,
   "metadata": {},
   "outputs": [],
   "source": [
    "# Comparativo dos valores reais contra as predições\n",
    "for real,predito in zip(y_test,y_pred):\n",
    "    print('Real:{} | Predito:{}'.format(real,predito))"
   ]
  },
  {
   "cell_type": "code",
   "execution_count": null,
   "metadata": {},
   "outputs": [],
   "source": [
    "# Acurácia no treinamento e no teste\n",
    "print('Acurácia treino:',model.score(X_train,y_train))\n",
    "print('Acurácia teste:',model.score(X_test,y_test))"
   ]
  },
  {
   "cell_type": "code",
   "execution_count": null,
   "metadata": {},
   "outputs": [],
   "source": [
    "# Relatório de classificação\n",
    "print('| Classification Report |\\n')\n",
    "print(classification_report(y_test,y_test))"
   ]
  },
  {
   "cell_type": "code",
   "execution_count": null,
   "metadata": {},
   "outputs": [],
   "source": [
    "# Matriz de confusão\n",
    "print('| Matriz de confusão |\\n')\n",
    "print(pd.crosstab(y_test, y_pred, rownames=['Real'], colnames=['Predito'], margins=True))"
   ]
  },
  {
   "cell_type": "code",
   "execution_count": null,
   "metadata": {},
   "outputs": [],
   "source": [
    "# https://www.linkedin.com/in/thiagomunich"
   ]
  }
 ],
 "metadata": {
  "kernelspec": {
   "display_name": "Python 3",
   "language": "python",
   "name": "python3"
  },
  "language_info": {
   "codemirror_mode": {
    "name": "ipython",
    "version": 3
   },
   "file_extension": ".py",
   "mimetype": "text/x-python",
   "name": "python",
   "nbconvert_exporter": "python",
   "pygments_lexer": "ipython3",
   "version": "3.6.5"
  }
 },
 "nbformat": 4,
 "nbformat_minor": 2
}
