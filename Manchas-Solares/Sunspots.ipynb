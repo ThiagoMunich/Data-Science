{
 "cells": [
  {
   "cell_type": "code",
   "execution_count": null,
   "metadata": {},
   "outputs": [],
   "source": [
    "# Importando as bibliotecas necessárias\n",
    "import numpy as np\n",
    "import pandas as pd\n",
    "import matplotlib.pyplot as plt\n",
    "import seaborn as sb\n",
    "from sklearn.neural_network import MLPRegressor\n",
    "from sklearn.metrics import mean_squared_error, mean_absolute_error\n",
    "from sklearn.preprocessing import StandardScaler"
   ]
  },
  {
   "cell_type": "code",
   "execution_count": null,
   "metadata": {},
   "outputs": [],
   "source": [
    "# Salvando o caminho do arquivo\n",
    "path = 'C:/Users/Thiago/Documents/CSV/monthly-sunspots.csv'\n",
    "\n",
    "# Criando o dataframe\n",
    "df = pd.read_csv(path,index_col='Month',parse_dates=True)"
   ]
  },
  {
   "cell_type": "code",
   "execution_count": null,
   "metadata": {},
   "outputs": [],
   "source": [
    "df['Sunspots'].plot(label='Manchas solares',figsize=(14,8))\n",
    "plt.title('Manchas solares ao longo do tempo')\n",
    "plt.xlabel('Data')\n",
    "plt.ylabel('Número de manchas solares')\n",
    "plt.axhline(df['Sunspots'].mean(),label='Média',c='r',ls='--',lw=2)\n",
    "plt.legend();"
   ]
  },
  {
   "cell_type": "code",
   "execution_count": null,
   "metadata": {},
   "outputs": [],
   "source": [
    "# Plotando histograma\n",
    "plt.figure(figsize=(16,8))\n",
    "df['Sunspots'].hist(bins=100)\n",
    "plt.axhline(df['Sunspots'].mean(),label='Média',c='r',ls='--')\n",
    "plt.title('Manchas solares ao longo do meses')\n",
    "plt.xlabel('Número de manchas')\n",
    "plt.ylabel('Quantidade observada')\n",
    "plt.legend(loc='best');"
   ]
  },
  {
   "cell_type": "code",
   "execution_count": null,
   "metadata": {},
   "outputs": [],
   "source": [
    "# Feature engineering\n",
    "def Engenharia(df):\n",
    "    df['36_ma'] = df['Sunspots'].ewm(36).mean()\n",
    "\n",
    "# Criando a variável preditiva\n",
    "def Target(df):\n",
    "    df['target'] = df['Sunspots'].shift(-1)\n",
    "    df.replace(np.nan,0,inplace=True)\n",
    "\n",
    "# Separando as características\n",
    "def Processar(df):\n",
    "    X = np.array([])\n",
    "    y = np.array([])\n",
    "    \n",
    "    X = df.drop('target',axis=1)\n",
    "    y = df['target'].values\n",
    "    \n",
    "    X = StandardScaler().fit_transform(X)\n",
    "    \n",
    "    return X,y\n",
    "\n",
    "# Dividindo X,y em teste e treinamento\n",
    "# 66% para treinamento | 33% para teste\n",
    "def SplitData(X,y):\n",
    "    train_size = int(0.66 * X.shape[0])\n",
    "    \n",
    "    X_train,X_test = X[:train_size], X[train_size:]\n",
    "    y_train,y_test = y[:train_size], y[train_size:]\n",
    "    \n",
    "    return X_train,X_test,y_train,y_test"
   ]
  },
  {
   "cell_type": "code",
   "execution_count": null,
   "metadata": {},
   "outputs": [],
   "source": [
    "# Fazendo a chamada das funções\n",
    "Engenharia(df)\n",
    "Target(df)\n",
    "X,y = Processar(df)\n",
    "X_train,X_test,y_train,y_test = SplitData(X,y)"
   ]
  },
  {
   "cell_type": "code",
   "execution_count": null,
   "metadata": {},
   "outputs": [],
   "source": [
    "print('Primeiro registro em X:',X[0])\n",
    "print('Primeiro registro em y:',y[0])"
   ]
  },
  {
   "cell_type": "code",
   "execution_count": null,
   "metadata": {
    "scrolled": true
   },
   "outputs": [],
   "source": [
    "# Visualizando os 5 primeiros registros do dataframe\n",
    "df.head()"
   ]
  },
  {
   "cell_type": "code",
   "execution_count": null,
   "metadata": {
    "scrolled": true
   },
   "outputs": [],
   "source": [
    "# Print do número de amostras\n",
    "print('Total de amostras:', len(X))\n",
    "print('Amostras p/ treino:',len(X_train))\n",
    "print('Amostras p/ teste:',len(X_test))"
   ]
  },
  {
   "cell_type": "code",
   "execution_count": null,
   "metadata": {},
   "outputs": [],
   "source": [
    "# Definindo o modelo\n",
    "# 2 camadas ocultas, 100 nós em cada camada\n",
    "# Otimizador de pesos: lbfgs\n",
    "model = MLPRegressor(hidden_layer_sizes=(100,100),solver='lbfgs')"
   ]
  },
  {
   "cell_type": "code",
   "execution_count": null,
   "metadata": {},
   "outputs": [],
   "source": [
    "# Treinando o modelo\n",
    "model = model.fit(X_train,y_train)"
   ]
  },
  {
   "cell_type": "code",
   "execution_count": null,
   "metadata": {},
   "outputs": [],
   "source": [
    "# Armazenando as predições\n",
    "y_pred = model.predict(X_test)"
   ]
  },
  {
   "cell_type": "code",
   "execution_count": null,
   "metadata": {},
   "outputs": [],
   "source": [
    "# Avaliando o desempenho\n",
    "print('Acurácia no treinamento: {:.2f}'.format(model.score(X_train,y_train)))\n",
    "print('Acurácia no teste: {:.2f}'.format(model.score(X_test,y_test)))\n",
    "print('Erro médio absoluto: {:.2f}'.format(mean_absolute_error(y_test,y_pred)))\n",
    "print('Media número de manchas: {:.2f}'.format(df['Sunspots'].mean()))"
   ]
  },
  {
   "cell_type": "code",
   "execution_count": null,
   "metadata": {},
   "outputs": [],
   "source": [
    "# Loop de auxilio para criação de outro dataframe\n",
    "lista = []\n",
    "for i in range(959):\n",
    "    lista.append(i)"
   ]
  },
  {
   "cell_type": "code",
   "execution_count": null,
   "metadata": {},
   "outputs": [],
   "source": [
    "# Criando o dataframe dos valores reais contra as predições\n",
    "data = [y_test,y_pred]\n",
    "data = np.array(data)\n",
    "data = data.reshape(959,2)\n",
    "df_pred = pd.DataFrame(data,index=lista,columns=['real','pred'])"
   ]
  },
  {
   "cell_type": "code",
   "execution_count": null,
   "metadata": {},
   "outputs": [],
   "source": [
    "# Plot dos valores reais contra predições\n",
    "plt.figure()\n",
    "df_pred['real'].plot(label='Real',alpha=0.6,figsize=(16,8))\n",
    "df_pred['pred'].plot(label='Predito',alpha=0.8)\n",
    "plt.title('Predições vs Valores reais')\n",
    "plt.ylabel('Manchas solares')\n",
    "plt.xlabel('Data')\n",
    "plt.legend();"
   ]
  },
  {
   "cell_type": "code",
   "execution_count": null,
   "metadata": {},
   "outputs": [],
   "source": [
    "# https://www.linkedin.com/in/thiagomunich"
   ]
  }
 ],
 "metadata": {
  "kernelspec": {
   "display_name": "Python 3",
   "language": "python",
   "name": "python3"
  },
  "language_info": {
   "codemirror_mode": {
    "name": "ipython",
    "version": 3
   },
   "file_extension": ".py",
   "mimetype": "text/x-python",
   "name": "python",
   "nbconvert_exporter": "python",
   "pygments_lexer": "ipython3",
   "version": "3.6.5"
  }
 },
 "nbformat": 4,
 "nbformat_minor": 2
}
